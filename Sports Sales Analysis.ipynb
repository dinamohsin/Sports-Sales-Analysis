{
 "cells": [
  {
   "cell_type": "markdown",
   "id": "20c8042e",
   "metadata": {},
   "source": [
    "# Sports Sales Analysis\n",
    "<div style=\"text-align: center;\">\n",
    "  <img src=\"https://github.com/dinamohsin/Sports-Sales-Analysis/blob/main/img/logo_py.png?raw=true\" width=\"200\" style=\"float: right; margin-left: 20px; margin-top: 0px;\">\n",
    "</div>\n",
    "\n",
    "## Project Goal  \n",
    "The main objective of this project is to analyze **Sports Product Sales** data to extract insights related to profitability, pricing, and sales performance. \n",
    "\n",
    "\n",
    "The goal is to answer specific business questions like:  \n",
    "- **How are sales distributed across regions and sales methods?**  \n",
    "- **What are the trends in sales and profit over time?**  \n",
    "- **How do product prices vary and impact sales?**\n"
   ]
  },
  {
   "cell_type": "code",
   "execution_count": 73,
   "id": "067aae6c",
   "metadata": {},
   "outputs": [],
   "source": [
    "import pandas as pd\n",
    "import matplotlib.pyplot as plt\n",
    "import seaborn as sns\n",
    "import numpy as np"
   ]
  },
  {
   "cell_type": "code",
   "execution_count": 74,
   "id": "fd0e08a2",
   "metadata": {},
   "outputs": [],
   "source": [
    "# Load the sales data from the provided URL (Excel file)\n",
    "url = \"https://raw.githubusercontent.com/dinamohsin/Sports-Sales-Analysis/main/Data/Sport-Products-Sales-Analysis.xlsx\"\n",
    "df = pd.read_excel(url, engine='openpyxl')"
   ]
  },
  {
   "cell_type": "markdown",
   "id": "236cdcd4",
   "metadata": {},
   "source": [
    "### Data Exploration & Column Summary"
   ]
  },
  {
   "cell_type": "code",
   "execution_count": 75,
   "id": "ee97fdf8",
   "metadata": {},
   "outputs": [
    {
     "name": "stdout",
     "output_type": "stream",
     "text": [
      "First 5 rows of data:\n"
     ]
    },
    {
     "data": {
      "application/vnd.microsoft.datawrangler.viewer.v0+json": {
       "columns": [
        {
         "name": "index",
         "rawType": "int64",
         "type": "integer"
        },
        {
         "name": "Retailer",
         "rawType": "object",
         "type": "string"
        },
        {
         "name": "Retailer ID",
         "rawType": "int64",
         "type": "integer"
        },
        {
         "name": "Invoice Date",
         "rawType": "datetime64[ns]",
         "type": "datetime"
        },
        {
         "name": "Region",
         "rawType": "object",
         "type": "string"
        },
        {
         "name": "State",
         "rawType": "object",
         "type": "string"
        },
        {
         "name": "City",
         "rawType": "object",
         "type": "string"
        },
        {
         "name": "Product",
         "rawType": "object",
         "type": "string"
        },
        {
         "name": "Price per Unit",
         "rawType": "float64",
         "type": "float"
        },
        {
         "name": "Units Sold",
         "rawType": "int64",
         "type": "integer"
        },
        {
         "name": "Total Sales",
         "rawType": "float64",
         "type": "float"
        },
        {
         "name": "Operating Proft",
         "rawType": "float64",
         "type": "float"
        },
        {
         "name": "Operating Margin",
         "rawType": "float64",
         "type": "float"
        },
        {
         "name": "Sales Method",
         "rawType": "object",
         "type": "string"
        }
       ],
       "conversionMethod": "pd.DataFrame",
       "ref": "c5fe2239-53bb-4863-a2f7-08e1cfa73f11",
       "rows": [
        [
         "0",
         "Amazon",
         "1185732",
         "2021-10-12 00:00:00",
         "South",
         "Alabama",
         "Birmingham",
         "Men's Street Footwear",
         "40.0",
         "450",
         "18000.0",
         "6299.999999999999",
         "0.35",
         "Outlet"
        ],
        [
         "1",
         "Amazon",
         "1185732",
         "2021-10-13 00:00:00",
         "South",
         "Alabama",
         "Birmingham",
         "Men's Athletic Footwear",
         "40.0",
         "250",
         "10000.0",
         "3500.0",
         "0.35",
         "Outlet"
        ],
        [
         "2",
         "Amazon",
         "1185732",
         "2021-10-14 00:00:00",
         "South",
         "Alabama",
         "Birmingham",
         "Women's Street Footwear",
         "30.000000000000004",
         "250",
         "7500.000000000002",
         "3000.0000000000005",
         "0.39999999999999997",
         "Outlet"
        ],
        [
         "3",
         "Amazon",
         "1185732",
         "2021-10-15 00:00:00",
         "South",
         "Alabama",
         "Birmingham",
         "Women's Athletic Footwear",
         "35.0",
         "100",
         "3500.0",
         "1050.0",
         "0.3",
         "Outlet"
        ],
        [
         "4",
         "Amazon",
         "1185732",
         "2021-10-16 00:00:00",
         "Northeast",
         "Maine",
         "Portland",
         "Men's Apparel",
         "50.0",
         "150",
         "7500.0",
         "1875.0",
         "0.25",
         "Outlet"
        ]
       ],
       "shape": {
        "columns": 13,
        "rows": 5
       }
      },
      "text/html": [
       "<div>\n",
       "<style scoped>\n",
       "    .dataframe tbody tr th:only-of-type {\n",
       "        vertical-align: middle;\n",
       "    }\n",
       "\n",
       "    .dataframe tbody tr th {\n",
       "        vertical-align: top;\n",
       "    }\n",
       "\n",
       "    .dataframe thead th {\n",
       "        text-align: right;\n",
       "    }\n",
       "</style>\n",
       "<table border=\"1\" class=\"dataframe\">\n",
       "  <thead>\n",
       "    <tr style=\"text-align: right;\">\n",
       "      <th></th>\n",
       "      <th>Retailer</th>\n",
       "      <th>Retailer ID</th>\n",
       "      <th>Invoice Date</th>\n",
       "      <th>Region</th>\n",
       "      <th>State</th>\n",
       "      <th>City</th>\n",
       "      <th>Product</th>\n",
       "      <th>Price per Unit</th>\n",
       "      <th>Units Sold</th>\n",
       "      <th>Total Sales</th>\n",
       "      <th>Operating Proft</th>\n",
       "      <th>Operating Margin</th>\n",
       "      <th>Sales Method</th>\n",
       "    </tr>\n",
       "  </thead>\n",
       "  <tbody>\n",
       "    <tr>\n",
       "      <th>0</th>\n",
       "      <td>Amazon</td>\n",
       "      <td>1185732</td>\n",
       "      <td>2021-10-12</td>\n",
       "      <td>South</td>\n",
       "      <td>Alabama</td>\n",
       "      <td>Birmingham</td>\n",
       "      <td>Men's Street Footwear</td>\n",
       "      <td>40.0</td>\n",
       "      <td>450</td>\n",
       "      <td>18000.0</td>\n",
       "      <td>6300.0</td>\n",
       "      <td>0.35</td>\n",
       "      <td>Outlet</td>\n",
       "    </tr>\n",
       "    <tr>\n",
       "      <th>1</th>\n",
       "      <td>Amazon</td>\n",
       "      <td>1185732</td>\n",
       "      <td>2021-10-13</td>\n",
       "      <td>South</td>\n",
       "      <td>Alabama</td>\n",
       "      <td>Birmingham</td>\n",
       "      <td>Men's Athletic Footwear</td>\n",
       "      <td>40.0</td>\n",
       "      <td>250</td>\n",
       "      <td>10000.0</td>\n",
       "      <td>3500.0</td>\n",
       "      <td>0.35</td>\n",
       "      <td>Outlet</td>\n",
       "    </tr>\n",
       "    <tr>\n",
       "      <th>2</th>\n",
       "      <td>Amazon</td>\n",
       "      <td>1185732</td>\n",
       "      <td>2021-10-14</td>\n",
       "      <td>South</td>\n",
       "      <td>Alabama</td>\n",
       "      <td>Birmingham</td>\n",
       "      <td>Women's Street Footwear</td>\n",
       "      <td>30.0</td>\n",
       "      <td>250</td>\n",
       "      <td>7500.0</td>\n",
       "      <td>3000.0</td>\n",
       "      <td>0.40</td>\n",
       "      <td>Outlet</td>\n",
       "    </tr>\n",
       "    <tr>\n",
       "      <th>3</th>\n",
       "      <td>Amazon</td>\n",
       "      <td>1185732</td>\n",
       "      <td>2021-10-15</td>\n",
       "      <td>South</td>\n",
       "      <td>Alabama</td>\n",
       "      <td>Birmingham</td>\n",
       "      <td>Women's Athletic Footwear</td>\n",
       "      <td>35.0</td>\n",
       "      <td>100</td>\n",
       "      <td>3500.0</td>\n",
       "      <td>1050.0</td>\n",
       "      <td>0.30</td>\n",
       "      <td>Outlet</td>\n",
       "    </tr>\n",
       "    <tr>\n",
       "      <th>4</th>\n",
       "      <td>Amazon</td>\n",
       "      <td>1185732</td>\n",
       "      <td>2021-10-16</td>\n",
       "      <td>Northeast</td>\n",
       "      <td>Maine</td>\n",
       "      <td>Portland</td>\n",
       "      <td>Men's Apparel</td>\n",
       "      <td>50.0</td>\n",
       "      <td>150</td>\n",
       "      <td>7500.0</td>\n",
       "      <td>1875.0</td>\n",
       "      <td>0.25</td>\n",
       "      <td>Outlet</td>\n",
       "    </tr>\n",
       "  </tbody>\n",
       "</table>\n",
       "</div>"
      ],
      "text/plain": [
       "  Retailer  Retailer ID Invoice Date     Region    State        City  \\\n",
       "0   Amazon      1185732   2021-10-12      South  Alabama  Birmingham   \n",
       "1   Amazon      1185732   2021-10-13      South  Alabama  Birmingham   \n",
       "2   Amazon      1185732   2021-10-14      South  Alabama  Birmingham   \n",
       "3   Amazon      1185732   2021-10-15      South  Alabama  Birmingham   \n",
       "4   Amazon      1185732   2021-10-16  Northeast    Maine    Portland   \n",
       "\n",
       "                     Product  Price per Unit  Units Sold  Total Sales  \\\n",
       "0      Men's Street Footwear            40.0         450      18000.0   \n",
       "1    Men's Athletic Footwear            40.0         250      10000.0   \n",
       "2    Women's Street Footwear            30.0         250       7500.0   \n",
       "3  Women's Athletic Footwear            35.0         100       3500.0   \n",
       "4              Men's Apparel            50.0         150       7500.0   \n",
       "\n",
       "   Operating Proft  Operating Margin Sales Method  \n",
       "0           6300.0              0.35       Outlet  \n",
       "1           3500.0              0.35       Outlet  \n",
       "2           3000.0              0.40       Outlet  \n",
       "3           1050.0              0.30       Outlet  \n",
       "4           1875.0              0.25       Outlet  "
      ]
     },
     "execution_count": 75,
     "metadata": {},
     "output_type": "execute_result"
    }
   ],
   "source": [
    "# Display first few rows\n",
    "print(\"First 5 rows of data:\")\n",
    "df.head()"
   ]
  },
  {
   "cell_type": "code",
   "execution_count": 76,
   "id": "0a6e3167",
   "metadata": {},
   "outputs": [
    {
     "name": "stdout",
     "output_type": "stream",
     "text": [
      "--- Column Type Summary ---\n",
      "Number of Numerical Columns: 6\n",
      "Numerical Columns: ['Retailer ID', 'Price per Unit', 'Units Sold', 'Total Sales', 'Operating Proft', 'Operating Margin']\n",
      "\n",
      "Number of Categorical Columns: 6\n",
      "Categorical Columns: ['Retailer', 'Region', 'State', 'City', 'Product', 'Sales Method']\n"
     ]
    }
   ],
   "source": [
    "def data_type_summary(df):\n",
    "    # Numerical Columns\n",
    "    numerical_cols = df.select_dtypes(include=['int64', 'float64']).columns\n",
    "    num_numerical = len(numerical_cols)\n",
    "\n",
    "    # Categorical Columns\n",
    "    categorical_cols = df.select_dtypes(include=['object']).columns\n",
    "    num_categorical = len(categorical_cols)\n",
    "\n",
    "    # Summary Output\n",
    "    print(\"--- Column Type Summary ---\")\n",
    "    print(f\"Number of Numerical Columns: {num_numerical}\")\n",
    "    print(f\"Numerical Columns: {list(numerical_cols)}\")\n",
    "\n",
    "    print(f\"\\nNumber of Categorical Columns: {num_categorical}\")\n",
    "    print(f\"Categorical Columns: {list(categorical_cols)}\")\n",
    "\n",
    "# Display summary of column types\n",
    "data_type_summary(df)"
   ]
  },
  {
   "cell_type": "code",
   "execution_count": 77,
   "id": "8824ff1b",
   "metadata": {},
   "outputs": [
    {
     "name": "stdout",
     "output_type": "stream",
     "text": [
      " --- Categorical Columns Analysis ---\n",
      "\n",
      "Column: Retailer\n",
      "Number of Unique Values: 6\n",
      "Unique Values: ['Amazon', 'Foot Locker', \"Kohl's\", 'Sports Direct', 'Walmart', 'West Gear']\n",
      "\n",
      "Column: Region\n",
      "Number of Unique Values: 5\n",
      "Unique Values: ['South', 'Northeast', 'West', 'Southeast', 'Midwest']\n",
      "\n",
      "Column: State\n",
      "Number of Unique Values: 50\n",
      "Unique Values: ['Alabama', 'Maine', 'Alaska', 'North Carolina', 'Ohio', 'Kentucky', 'Massachusetts', 'Vermont', 'New Hampshire', 'New York', 'California', 'Illinois', 'Texas', 'Pennsylvania', 'Washington', 'Florida', 'Minnesota', 'Tennessee', 'Nebraska', 'Hawaii', 'Wyoming', 'Virginia', 'Michigan', 'Missouri', 'Louisiana', 'Idaho', 'Arizona', 'Georgia', 'South Carolina', 'Mississippi', 'Kansas', 'South Dakota', 'North Dakota', 'Iowa', 'West Virginia', 'Maryland', 'Delaware', 'Connecticut', 'Rhode Island', 'Montana', 'New Mexico', 'Oklahoma', 'New Jersey', 'Arkansas', 'Nevada', 'Colorado', 'Utah', 'Oregon', 'Wisconsin', 'Indiana']\n",
      "\n",
      "Column: City\n",
      "Number of Unique Values: 52\n",
      "Unique Values: ['Birmingham', 'Portland', 'Anchorage', 'Charlotte', 'Columbus', 'Louisville', 'Boston', 'Burlington', 'Manchester', 'New York', 'Los Angeles', 'Chicago', 'Dallas', 'Philadelphia', 'Seattle', 'Miami', 'Minneapolis', 'Knoxville', 'Omaha', 'Honolulu', 'Cheyenne', 'Richmond', 'Detroit', 'St. Louis', 'New Orleans', 'Boise', 'Phoenix', 'Atlanta', 'Charleston', 'Jackson', 'Wichita', 'Sioux Falls', 'Fargo', 'Des Moines', 'Baltimore', 'Wilmington', 'Hartford', 'Providence', 'San Francisco', 'Billings', 'Albany', 'Albuquerque', 'Oklahoma City', 'Newark', 'Houston', 'Orlando', 'Little Rock', 'Las Vegas', 'Denver', 'Salt Lake City', 'Milwaukee', 'Indianapolis']\n",
      "\n",
      "Column: Product\n",
      "Number of Unique Values: 6\n",
      "Unique Values: [\"Men's Street Footwear\", \"Men's Athletic Footwear\", \"Women's Street Footwear\", \"Women's Athletic Footwear\", \"Men's Apparel\", \"Women's Apparel\"]\n",
      "\n",
      "Column: Sales Method\n",
      "Number of Unique Values: 3\n",
      "Unique Values: ['Outlet', 'Online', 'In-store']\n",
      "\n"
     ]
    }
   ],
   "source": [
    "# Categorical Columns\n",
    "categorical_cols = df.select_dtypes(include=['object']).columns\n",
    "\n",
    "print(\" --- Categorical Columns Analysis ---\\n\")\n",
    "\n",
    "for col in categorical_cols:\n",
    "    unique_vals = df[col].unique()\n",
    "    num_unique = df[col].nunique()\n",
    "    \n",
    "    print(f\"Column: {col}\")\n",
    "    print(f\"Number of Unique Values: {num_unique}\")\n",
    "    print(f\"Unique Values: {list(unique_vals)}\\n\")"
   ]
  },
  {
   "cell_type": "markdown",
   "id": "a8ad7e1a",
   "metadata": {},
   "source": [
    "### Data Cleaning and Transformation"
   ]
  },
  {
   "cell_type": "code",
   "execution_count": 78,
   "id": "76c0bac4",
   "metadata": {},
   "outputs": [],
   "source": [
    "# Convert 'Invoice Date' to datetime\n",
    "df['Invoice Date'] = pd.to_datetime(df['Invoice Date'])\n",
    "\n",
    "# Convert the 'Retailer ID' column to string type\n",
    "df['Retailer ID'] = df['Retailer ID'].astype(str) \n",
    "\n",
    "# Rename 'Operating Proft' column to 'Operating Profit'\n",
    "df = df.rename(columns={'Operating Proft': 'Operating Profit'})"
   ]
  },
  {
   "cell_type": "code",
   "execution_count": 79,
   "id": "d581c468",
   "metadata": {},
   "outputs": [],
   "source": [
    "# --- Extracting year and quarter from invoice date --- \n",
    "df['Year'] = df['Invoice Date'].dt.year\n",
    "df['QuarterNum'] = df['Invoice Date'].dt.quarter\n",
    "df['Quarter'] = 'Q' + df['QuarterNum'].astype(str)"
   ]
  },
  {
   "cell_type": "code",
   "execution_count": 80,
   "id": "577f9d87",
   "metadata": {},
   "outputs": [],
   "source": [
    "# --- Creating a new column combining year and quarter --- \n",
    "df['Year_Quarter'] = df['Year'].astype(str) + '-' + df['Quarter']"
   ]
  },
  {
   "cell_type": "markdown",
   "id": "cf7c6582",
   "metadata": {},
   "source": [
    "### Verifying Data After Transformations"
   ]
  },
  {
   "cell_type": "code",
   "execution_count": 81,
   "id": "73cfb45b",
   "metadata": {},
   "outputs": [
    {
     "name": "stdout",
     "output_type": "stream",
     "text": [
      "--- Column Type Summary ---\n",
      "Number of Numerical Columns: 5\n",
      "Numerical Columns: ['Price per Unit', 'Units Sold', 'Total Sales', 'Operating Profit', 'Operating Margin']\n",
      "\n",
      "Number of Categorical Columns: 9\n",
      "Categorical Columns: ['Retailer', 'Retailer ID', 'Region', 'State', 'City', 'Product', 'Sales Method', 'Quarter', 'Year_Quarter']\n"
     ]
    }
   ],
   "source": [
    "# Display data type summary after transformations\n",
    "data_type_summary(df)"
   ]
  },
  {
   "cell_type": "code",
   "execution_count": 82,
   "id": "e8c90218",
   "metadata": {},
   "outputs": [
    {
     "name": "stdout",
     "output_type": "stream",
     "text": [
      "First 5 rows of data after changes:\n"
     ]
    },
    {
     "data": {
      "application/vnd.microsoft.datawrangler.viewer.v0+json": {
       "columns": [
        {
         "name": "index",
         "rawType": "int64",
         "type": "integer"
        },
        {
         "name": "Retailer",
         "rawType": "object",
         "type": "string"
        },
        {
         "name": "Retailer ID",
         "rawType": "object",
         "type": "string"
        },
        {
         "name": "Invoice Date",
         "rawType": "datetime64[ns]",
         "type": "datetime"
        },
        {
         "name": "Region",
         "rawType": "object",
         "type": "string"
        },
        {
         "name": "State",
         "rawType": "object",
         "type": "string"
        },
        {
         "name": "City",
         "rawType": "object",
         "type": "string"
        },
        {
         "name": "Product",
         "rawType": "object",
         "type": "string"
        },
        {
         "name": "Price per Unit",
         "rawType": "float64",
         "type": "float"
        },
        {
         "name": "Units Sold",
         "rawType": "int64",
         "type": "integer"
        },
        {
         "name": "Total Sales",
         "rawType": "float64",
         "type": "float"
        },
        {
         "name": "Operating Profit",
         "rawType": "float64",
         "type": "float"
        },
        {
         "name": "Operating Margin",
         "rawType": "float64",
         "type": "float"
        },
        {
         "name": "Sales Method",
         "rawType": "object",
         "type": "string"
        },
        {
         "name": "Year",
         "rawType": "int32",
         "type": "integer"
        },
        {
         "name": "QuarterNum",
         "rawType": "int32",
         "type": "integer"
        },
        {
         "name": "Quarter",
         "rawType": "object",
         "type": "string"
        },
        {
         "name": "Year_Quarter",
         "rawType": "object",
         "type": "string"
        }
       ],
       "conversionMethod": "pd.DataFrame",
       "ref": "31f25dfb-1181-4ab6-98b1-69f6f5b17ff3",
       "rows": [
        [
         "0",
         "Amazon",
         "1185732",
         "2021-10-12 00:00:00",
         "South",
         "Alabama",
         "Birmingham",
         "Men's Street Footwear",
         "40.0",
         "450",
         "18000.0",
         "6299.999999999999",
         "0.35",
         "Outlet",
         "2021",
         "4",
         "Q4",
         "2021-Q4"
        ],
        [
         "1",
         "Amazon",
         "1185732",
         "2021-10-13 00:00:00",
         "South",
         "Alabama",
         "Birmingham",
         "Men's Athletic Footwear",
         "40.0",
         "250",
         "10000.0",
         "3500.0",
         "0.35",
         "Outlet",
         "2021",
         "4",
         "Q4",
         "2021-Q4"
        ],
        [
         "2",
         "Amazon",
         "1185732",
         "2021-10-14 00:00:00",
         "South",
         "Alabama",
         "Birmingham",
         "Women's Street Footwear",
         "30.000000000000004",
         "250",
         "7500.000000000002",
         "3000.0000000000005",
         "0.39999999999999997",
         "Outlet",
         "2021",
         "4",
         "Q4",
         "2021-Q4"
        ],
        [
         "3",
         "Amazon",
         "1185732",
         "2021-10-15 00:00:00",
         "South",
         "Alabama",
         "Birmingham",
         "Women's Athletic Footwear",
         "35.0",
         "100",
         "3500.0",
         "1050.0",
         "0.3",
         "Outlet",
         "2021",
         "4",
         "Q4",
         "2021-Q4"
        ],
        [
         "4",
         "Amazon",
         "1185732",
         "2021-10-16 00:00:00",
         "Northeast",
         "Maine",
         "Portland",
         "Men's Apparel",
         "50.0",
         "150",
         "7500.0",
         "1875.0",
         "0.25",
         "Outlet",
         "2021",
         "4",
         "Q4",
         "2021-Q4"
        ]
       ],
       "shape": {
        "columns": 17,
        "rows": 5
       }
      },
      "text/html": [
       "<div>\n",
       "<style scoped>\n",
       "    .dataframe tbody tr th:only-of-type {\n",
       "        vertical-align: middle;\n",
       "    }\n",
       "\n",
       "    .dataframe tbody tr th {\n",
       "        vertical-align: top;\n",
       "    }\n",
       "\n",
       "    .dataframe thead th {\n",
       "        text-align: right;\n",
       "    }\n",
       "</style>\n",
       "<table border=\"1\" class=\"dataframe\">\n",
       "  <thead>\n",
       "    <tr style=\"text-align: right;\">\n",
       "      <th></th>\n",
       "      <th>Retailer</th>\n",
       "      <th>Retailer ID</th>\n",
       "      <th>Invoice Date</th>\n",
       "      <th>Region</th>\n",
       "      <th>State</th>\n",
       "      <th>City</th>\n",
       "      <th>Product</th>\n",
       "      <th>Price per Unit</th>\n",
       "      <th>Units Sold</th>\n",
       "      <th>Total Sales</th>\n",
       "      <th>Operating Profit</th>\n",
       "      <th>Operating Margin</th>\n",
       "      <th>Sales Method</th>\n",
       "      <th>Year</th>\n",
       "      <th>QuarterNum</th>\n",
       "      <th>Quarter</th>\n",
       "      <th>Year_Quarter</th>\n",
       "    </tr>\n",
       "  </thead>\n",
       "  <tbody>\n",
       "    <tr>\n",
       "      <th>0</th>\n",
       "      <td>Amazon</td>\n",
       "      <td>1185732</td>\n",
       "      <td>2021-10-12</td>\n",
       "      <td>South</td>\n",
       "      <td>Alabama</td>\n",
       "      <td>Birmingham</td>\n",
       "      <td>Men's Street Footwear</td>\n",
       "      <td>40.0</td>\n",
       "      <td>450</td>\n",
       "      <td>18000.0</td>\n",
       "      <td>6300.0</td>\n",
       "      <td>0.35</td>\n",
       "      <td>Outlet</td>\n",
       "      <td>2021</td>\n",
       "      <td>4</td>\n",
       "      <td>Q4</td>\n",
       "      <td>2021-Q4</td>\n",
       "    </tr>\n",
       "    <tr>\n",
       "      <th>1</th>\n",
       "      <td>Amazon</td>\n",
       "      <td>1185732</td>\n",
       "      <td>2021-10-13</td>\n",
       "      <td>South</td>\n",
       "      <td>Alabama</td>\n",
       "      <td>Birmingham</td>\n",
       "      <td>Men's Athletic Footwear</td>\n",
       "      <td>40.0</td>\n",
       "      <td>250</td>\n",
       "      <td>10000.0</td>\n",
       "      <td>3500.0</td>\n",
       "      <td>0.35</td>\n",
       "      <td>Outlet</td>\n",
       "      <td>2021</td>\n",
       "      <td>4</td>\n",
       "      <td>Q4</td>\n",
       "      <td>2021-Q4</td>\n",
       "    </tr>\n",
       "    <tr>\n",
       "      <th>2</th>\n",
       "      <td>Amazon</td>\n",
       "      <td>1185732</td>\n",
       "      <td>2021-10-14</td>\n",
       "      <td>South</td>\n",
       "      <td>Alabama</td>\n",
       "      <td>Birmingham</td>\n",
       "      <td>Women's Street Footwear</td>\n",
       "      <td>30.0</td>\n",
       "      <td>250</td>\n",
       "      <td>7500.0</td>\n",
       "      <td>3000.0</td>\n",
       "      <td>0.40</td>\n",
       "      <td>Outlet</td>\n",
       "      <td>2021</td>\n",
       "      <td>4</td>\n",
       "      <td>Q4</td>\n",
       "      <td>2021-Q4</td>\n",
       "    </tr>\n",
       "    <tr>\n",
       "      <th>3</th>\n",
       "      <td>Amazon</td>\n",
       "      <td>1185732</td>\n",
       "      <td>2021-10-15</td>\n",
       "      <td>South</td>\n",
       "      <td>Alabama</td>\n",
       "      <td>Birmingham</td>\n",
       "      <td>Women's Athletic Footwear</td>\n",
       "      <td>35.0</td>\n",
       "      <td>100</td>\n",
       "      <td>3500.0</td>\n",
       "      <td>1050.0</td>\n",
       "      <td>0.30</td>\n",
       "      <td>Outlet</td>\n",
       "      <td>2021</td>\n",
       "      <td>4</td>\n",
       "      <td>Q4</td>\n",
       "      <td>2021-Q4</td>\n",
       "    </tr>\n",
       "    <tr>\n",
       "      <th>4</th>\n",
       "      <td>Amazon</td>\n",
       "      <td>1185732</td>\n",
       "      <td>2021-10-16</td>\n",
       "      <td>Northeast</td>\n",
       "      <td>Maine</td>\n",
       "      <td>Portland</td>\n",
       "      <td>Men's Apparel</td>\n",
       "      <td>50.0</td>\n",
       "      <td>150</td>\n",
       "      <td>7500.0</td>\n",
       "      <td>1875.0</td>\n",
       "      <td>0.25</td>\n",
       "      <td>Outlet</td>\n",
       "      <td>2021</td>\n",
       "      <td>4</td>\n",
       "      <td>Q4</td>\n",
       "      <td>2021-Q4</td>\n",
       "    </tr>\n",
       "  </tbody>\n",
       "</table>\n",
       "</div>"
      ],
      "text/plain": [
       "  Retailer Retailer ID Invoice Date     Region    State        City  \\\n",
       "0   Amazon     1185732   2021-10-12      South  Alabama  Birmingham   \n",
       "1   Amazon     1185732   2021-10-13      South  Alabama  Birmingham   \n",
       "2   Amazon     1185732   2021-10-14      South  Alabama  Birmingham   \n",
       "3   Amazon     1185732   2021-10-15      South  Alabama  Birmingham   \n",
       "4   Amazon     1185732   2021-10-16  Northeast    Maine    Portland   \n",
       "\n",
       "                     Product  Price per Unit  Units Sold  Total Sales  \\\n",
       "0      Men's Street Footwear            40.0         450      18000.0   \n",
       "1    Men's Athletic Footwear            40.0         250      10000.0   \n",
       "2    Women's Street Footwear            30.0         250       7500.0   \n",
       "3  Women's Athletic Footwear            35.0         100       3500.0   \n",
       "4              Men's Apparel            50.0         150       7500.0   \n",
       "\n",
       "   Operating Profit  Operating Margin Sales Method  Year  QuarterNum Quarter  \\\n",
       "0            6300.0              0.35       Outlet  2021           4      Q4   \n",
       "1            3500.0              0.35       Outlet  2021           4      Q4   \n",
       "2            3000.0              0.40       Outlet  2021           4      Q4   \n",
       "3            1050.0              0.30       Outlet  2021           4      Q4   \n",
       "4            1875.0              0.25       Outlet  2021           4      Q4   \n",
       "\n",
       "  Year_Quarter  \n",
       "0      2021-Q4  \n",
       "1      2021-Q4  \n",
       "2      2021-Q4  \n",
       "3      2021-Q4  \n",
       "4      2021-Q4  "
      ]
     },
     "execution_count": 82,
     "metadata": {},
     "output_type": "execute_result"
    }
   ],
   "source": [
    "# Show the first 5 rows of data after the applied transformations\n",
    "print(\"First 5 rows of data after changes:\")\n",
    "df.head()"
   ]
  },
  {
   "cell_type": "markdown",
   "id": "812a7779",
   "metadata": {},
   "source": [
    "### Data Overview and Descriptive Statistics"
   ]
  },
  {
   "cell_type": "code",
   "execution_count": 83,
   "id": "3c14e52d",
   "metadata": {},
   "outputs": [
    {
     "name": "stdout",
     "output_type": "stream",
     "text": [
      "Data Info:\n",
      "<class 'pandas.core.frame.DataFrame'>\n",
      "RangeIndex: 9644 entries, 0 to 9643\n",
      "Data columns (total 17 columns):\n",
      " #   Column            Non-Null Count  Dtype         \n",
      "---  ------            --------------  -----         \n",
      " 0   Retailer          9644 non-null   object        \n",
      " 1   Retailer ID       9644 non-null   object        \n",
      " 2   Invoice Date      9644 non-null   datetime64[ns]\n",
      " 3   Region            9644 non-null   object        \n",
      " 4   State             9644 non-null   object        \n",
      " 5   City              9644 non-null   object        \n",
      " 6   Product           9644 non-null   object        \n",
      " 7   Price per Unit    9644 non-null   float64       \n",
      " 8   Units Sold        9644 non-null   int64         \n",
      " 9   Total Sales       9644 non-null   float64       \n",
      " 10  Operating Profit  9644 non-null   float64       \n",
      " 11  Operating Margin  9644 non-null   float64       \n",
      " 12  Sales Method      9644 non-null   object        \n",
      " 13  Year              9644 non-null   int32         \n",
      " 14  QuarterNum        9644 non-null   int32         \n",
      " 15  Quarter           9644 non-null   object        \n",
      " 16  Year_Quarter      9644 non-null   object        \n",
      "dtypes: datetime64[ns](1), float64(4), int32(2), int64(1), object(9)\n",
      "memory usage: 1.2+ MB\n"
     ]
    }
   ],
   "source": [
    "# Basic Info\n",
    "print(\"Data Info:\")\n",
    "df.info()"
   ]
  },
  {
   "cell_type": "code",
   "execution_count": 84,
   "id": "bec0835d",
   "metadata": {},
   "outputs": [
    {
     "name": "stdout",
     "output_type": "stream",
     "text": [
      "Missing values:\n"
     ]
    },
    {
     "data": {
      "text/plain": [
       "Retailer            0\n",
       "Retailer ID         0\n",
       "Invoice Date        0\n",
       "Region              0\n",
       "State               0\n",
       "City                0\n",
       "Product             0\n",
       "Price per Unit      0\n",
       "Units Sold          0\n",
       "Total Sales         0\n",
       "Operating Profit    0\n",
       "Operating Margin    0\n",
       "Sales Method        0\n",
       "Year                0\n",
       "QuarterNum          0\n",
       "Quarter             0\n",
       "Year_Quarter        0\n",
       "dtype: int64"
      ]
     },
     "execution_count": 84,
     "metadata": {},
     "output_type": "execute_result"
    }
   ],
   "source": [
    "# Check for missing values\n",
    "print(\"Missing values:\")\n",
    "df.isnull().sum()"
   ]
  },
  {
   "cell_type": "code",
   "execution_count": 85,
   "id": "15dc1d2f",
   "metadata": {},
   "outputs": [
    {
     "name": "stdout",
     "output_type": "stream",
     "text": [
      "Summary statistics:\n"
     ]
    },
    {
     "data": {
      "application/vnd.microsoft.datawrangler.viewer.v0+json": {
       "columns": [
        {
         "name": "index",
         "rawType": "object",
         "type": "string"
        },
        {
         "name": "Price per Unit",
         "rawType": "float64",
         "type": "float"
        },
        {
         "name": "Units Sold",
         "rawType": "float64",
         "type": "float"
        },
        {
         "name": "Total Sales",
         "rawType": "float64",
         "type": "float"
        },
        {
         "name": "Operating Profit",
         "rawType": "float64",
         "type": "float"
        },
        {
         "name": "Operating Margin",
         "rawType": "float64",
         "type": "float"
        }
       ],
       "conversionMethod": "pd.DataFrame",
       "ref": "6fec00af-9bb8-49fd-8280-ae0884b597ef",
       "rows": [
        [
         "count",
         "9644.0",
         "9644.0",
         "9644.0",
         "9644.0",
         "9644.0"
        ],
        [
         "mean",
         "45.22",
         "257.04",
         "9331.21",
         "3443.95",
         "0.42"
        ],
        [
         "std",
         "14.71",
         "214.23",
         "14193.27",
         "5419.98",
         "0.1"
        ],
        [
         "min",
         "7.0",
         "6.0",
         "16.0",
         "7.52",
         "0.1"
        ],
        [
         "25%",
         "35.0",
         "106.0",
         "426.12",
         "192.48",
         "0.35"
        ],
        [
         "50%",
         "45.0",
         "176.0",
         "958.1",
         "437.44",
         "0.41"
        ],
        [
         "75%",
         "55.0",
         "350.0",
         "15000.0",
         "5206.25",
         "0.49"
        ],
        [
         "max",
         "110.0",
         "1275.0",
         "82500.0",
         "39000.0",
         "0.8"
        ]
       ],
       "shape": {
        "columns": 5,
        "rows": 8
       }
      },
      "text/html": [
       "<div>\n",
       "<style scoped>\n",
       "    .dataframe tbody tr th:only-of-type {\n",
       "        vertical-align: middle;\n",
       "    }\n",
       "\n",
       "    .dataframe tbody tr th {\n",
       "        vertical-align: top;\n",
       "    }\n",
       "\n",
       "    .dataframe thead th {\n",
       "        text-align: right;\n",
       "    }\n",
       "</style>\n",
       "<table border=\"1\" class=\"dataframe\">\n",
       "  <thead>\n",
       "    <tr style=\"text-align: right;\">\n",
       "      <th></th>\n",
       "      <th>Price per Unit</th>\n",
       "      <th>Units Sold</th>\n",
       "      <th>Total Sales</th>\n",
       "      <th>Operating Profit</th>\n",
       "      <th>Operating Margin</th>\n",
       "    </tr>\n",
       "  </thead>\n",
       "  <tbody>\n",
       "    <tr>\n",
       "      <th>count</th>\n",
       "      <td>9644.00</td>\n",
       "      <td>9644.00</td>\n",
       "      <td>9644.00</td>\n",
       "      <td>9644.00</td>\n",
       "      <td>9644.00</td>\n",
       "    </tr>\n",
       "    <tr>\n",
       "      <th>mean</th>\n",
       "      <td>45.22</td>\n",
       "      <td>257.04</td>\n",
       "      <td>9331.21</td>\n",
       "      <td>3443.95</td>\n",
       "      <td>0.42</td>\n",
       "    </tr>\n",
       "    <tr>\n",
       "      <th>std</th>\n",
       "      <td>14.71</td>\n",
       "      <td>214.23</td>\n",
       "      <td>14193.27</td>\n",
       "      <td>5419.98</td>\n",
       "      <td>0.10</td>\n",
       "    </tr>\n",
       "    <tr>\n",
       "      <th>min</th>\n",
       "      <td>7.00</td>\n",
       "      <td>6.00</td>\n",
       "      <td>16.00</td>\n",
       "      <td>7.52</td>\n",
       "      <td>0.10</td>\n",
       "    </tr>\n",
       "    <tr>\n",
       "      <th>25%</th>\n",
       "      <td>35.00</td>\n",
       "      <td>106.00</td>\n",
       "      <td>426.12</td>\n",
       "      <td>192.48</td>\n",
       "      <td>0.35</td>\n",
       "    </tr>\n",
       "    <tr>\n",
       "      <th>50%</th>\n",
       "      <td>45.00</td>\n",
       "      <td>176.00</td>\n",
       "      <td>958.10</td>\n",
       "      <td>437.44</td>\n",
       "      <td>0.41</td>\n",
       "    </tr>\n",
       "    <tr>\n",
       "      <th>75%</th>\n",
       "      <td>55.00</td>\n",
       "      <td>350.00</td>\n",
       "      <td>15000.00</td>\n",
       "      <td>5206.25</td>\n",
       "      <td>0.49</td>\n",
       "    </tr>\n",
       "    <tr>\n",
       "      <th>max</th>\n",
       "      <td>110.00</td>\n",
       "      <td>1275.00</td>\n",
       "      <td>82500.00</td>\n",
       "      <td>39000.00</td>\n",
       "      <td>0.80</td>\n",
       "    </tr>\n",
       "  </tbody>\n",
       "</table>\n",
       "</div>"
      ],
      "text/plain": [
       "       Price per Unit  Units Sold  Total Sales  Operating Profit  \\\n",
       "count         9644.00     9644.00      9644.00           9644.00   \n",
       "mean            45.22      257.04      9331.21           3443.95   \n",
       "std             14.71      214.23     14193.27           5419.98   \n",
       "min              7.00        6.00        16.00              7.52   \n",
       "25%             35.00      106.00       426.12            192.48   \n",
       "50%             45.00      176.00       958.10            437.44   \n",
       "75%             55.00      350.00     15000.00           5206.25   \n",
       "max            110.00     1275.00     82500.00          39000.00   \n",
       "\n",
       "       Operating Margin  \n",
       "count           9644.00  \n",
       "mean               0.42  \n",
       "std                0.10  \n",
       "min                0.10  \n",
       "25%                0.35  \n",
       "50%                0.41  \n",
       "75%                0.49  \n",
       "max                0.80  "
      ]
     },
     "execution_count": 85,
     "metadata": {},
     "output_type": "execute_result"
    }
   ],
   "source": [
    "# Summary statistics for all numeric columns (excluding 'Invoice Date', 'Year', and 'QuarterNum'), rounded to 2 decimal places\n",
    "print(\"Summary statistics:\")\n",
    "df.drop(columns=['Invoice Date', 'Year', 'QuarterNum']).describe().round(2)\n"
   ]
  },
  {
   "cell_type": "markdown",
   "id": "a6e5eed3",
   "metadata": {},
   "source": [
    "### Key Performance Indicators (KPIs)"
   ]
  },
  {
   "cell_type": "code",
   "execution_count": 86,
   "id": "ac50d3c4",
   "metadata": {},
   "outputs": [
    {
     "name": "stdout",
     "output_type": "stream",
     "text": [
      "--- KPI Summary ---\n",
      "Total Sales: $89,990,212.50\n",
      "Total Profit: $33,213,476.14\n",
      "Total Units Sold: 2,478,861\n",
      "Number of Product Records: 9,644\n",
      "\n",
      "--- KPI Averages ---\n",
      "Average Sales: $9,331.21\n",
      "Average Profit: $3,443.95\n",
      "Average Units Sold: 257.04\n",
      "Average Price per Unit: $45.22\n",
      "Average Margin: 42.30%\n"
     ]
    }
   ],
   "source": [
    "# Calculate Key Performance Indicators (KPIs) for the dataset\n",
    "# Total Sales, Total Profit, Total Units Sold, and Number of Product Records\n",
    "\n",
    "total_sales = df['Total Sales'].sum()\n",
    "total_profit = df['Operating Profit'].sum()\n",
    "total_units_sold = df['Units Sold'].sum()\n",
    "total_products = df['Product'].count()\n",
    "\n",
    "print(\"--- KPI Summary ---\")\n",
    "print(f\"Total Sales: ${total_sales:,.2f}\")\n",
    "print(f\"Total Profit: ${total_profit:,.2f}\")\n",
    "print(f\"Total Units Sold: {total_units_sold:,}\")\n",
    "print(f\"Number of Product Records: {total_products:,}\")\n",
    "\n",
    "avg_sales = df['Total Sales'].mean()\n",
    "avg_profit = df['Operating Profit'].mean()\n",
    "avg_units = df['Units Sold'].mean()\n",
    "avg_price = df['Price per Unit'].mean()\n",
    "avg_margin = df['Operating Margin'].mean()\n",
    "\n",
    "print(\"\\n--- KPI Averages ---\")\n",
    "print(f\"Average Sales: ${avg_sales:,.2f}\")\n",
    "print(f\"Average Profit: ${avg_profit:,.2f}\")\n",
    "print(f\"Average Units Sold: {avg_units:.2f}\")\n",
    "print(f\"Average Price per Unit: ${avg_price:.2f}\")\n",
    "print(f\"Average Margin: {avg_margin:.2%}\")"
   ]
  },
  {
   "cell_type": "markdown",
   "id": "ee03c290",
   "metadata": {},
   "source": [
    "### Custom Number Formatting for Visualizations"
   ]
  },
  {
   "cell_type": "code",
   "execution_count": 87,
   "id": "4a81b374",
   "metadata": {},
   "outputs": [],
   "source": [
    "from matplotlib.ticker import FuncFormatter\n",
    "\n",
    "# --- Custom formatter to display values in millions, thousands, or as is --- \n",
    "def custom_formatter(x, pos):\n",
    "    if x >= 1_000_000:\n",
    "        return f'{x/1_000_000:.1f}M'  # For millions\n",
    "    elif x >= 1_000:\n",
    "        return f'{x/1_000:.0f}K'  # For thousands\n",
    "    else:\n",
    "        return f'{x:.0f}'  # For values less than 1,000"
   ]
  },
  {
   "cell_type": "markdown",
   "id": "69c02f5e",
   "metadata": {},
   "source": [
    "### Total Sales Analysis by Product"
   ]
  },
  {
   "cell_type": "markdown",
   "id": "b1c37893",
   "metadata": {},
   "source": [
    "#### Question 1:\n",
    "**Which product had the highest total sales, and which one had the lowest?**\n",
    "\n",
    "**Answer:**\n",
    "- **Highest Sales**: *Men's Street Footwear* with **$20,882,624**\n",
    "- **Lowest Sales**: *Women's Athletic Footwear* with **$10,663,189**"
   ]
  },
  {
   "cell_type": "code",
   "execution_count": 88,
   "id": "9267ff5e",
   "metadata": {},
   "outputs": [
    {
     "name": "stdout",
     "output_type": "stream",
     "text": [
      "Total Sales by Product:\n"
     ]
    },
    {
     "data": {
      "text/plain": [
       "Product\n",
       "Men's Street Footwear        20882624.4\n",
       "Women's Apparel              17903886.0\n",
       "Men's Athletic Footwear      15367368.0\n",
       "Women's Street Footwear      12800281.3\n",
       "Men's Apparel                12372863.2\n",
       "Women's Athletic Footwear    10663189.6\n",
       "Name: Total Sales, dtype: float64"
      ]
     },
     "execution_count": 88,
     "metadata": {},
     "output_type": "execute_result"
    }
   ],
   "source": [
    "# Total Sales by Product\n",
    "sales_by_product = df.groupby('Product')['Total Sales'].sum().sort_values(ascending=False)\n",
    "print(\"Total Sales by Product:\")\n",
    "sales_by_product"
   ]
  },
  {
   "cell_type": "code",
   "execution_count": 89,
   "id": "830b810a",
   "metadata": {},
   "outputs": [
    {
     "data": {
      "image/png": "[encoded data removed]",
      "text/plain": [
       "<Figure size 1200x700 with 1 Axes>"
      ]
     },
     "metadata": {},
     "output_type": "display_data"
    }
   ],
   "source": [
    "# Bar chart: Total Sales by Product\n",
    "plt.figure(figsize=(12, 7))\n",
    "ax = sales_by_product.plot(kind='bar', color=['#0C0950', '#161179', '#261FB3', '#9EC6F3', '#AFDDFF', '#C7D9DD'])\n",
    "\n",
    "plt.title('Total Sales by Product')\n",
    "plt.ylabel('Total Sales')\n",
    "plt.xticks(rotation=45)\n",
    "\n",
    "# Apply custom y-axis formatter\n",
    "plt.gca().yaxis.set_major_formatter(FuncFormatter(custom_formatter))\n",
    "\n",
    "# --- Add value labels on top of each bar ---\n",
    "for index, sales in enumerate(sales_by_product):\n",
    "    ax.text(index, sales + (sales * 0.01), f'{sales:,.0f}', ha='center', va='bottom', fontsize=10, fontweight='bold')\n",
    "\n",
    "# Adjust layout\n",
    "plt.tight_layout()\n",
    "plt.show()\n"
   ]
  },
  {
   "cell_type": "markdown",
   "id": "1e498dd7",
   "metadata": {},
   "source": [
    "### Total Sales by Region"
   ]
  },
  {
   "cell_type": "markdown",
   "id": "44856806",
   "metadata": {},
   "source": [
    "#### Question 2:\n",
    "**Which region had the highest total sales, and which region had the lowest?**\n",
    "\n",
    "**Answer:**\n",
    "- **Highest Sales**: *West* with **$26,994,318**\n",
    "- **Lowest Sales**: *Midwest* with **$13,580,045**\n"
   ]
  },
  {
   "cell_type": "code",
   "execution_count": 90,
   "id": "37df2eeb",
   "metadata": {},
   "outputs": [
    {
     "name": "stdout",
     "output_type": "stream",
     "text": [
      "Total Sales by Region:\n"
     ]
    },
    {
     "data": {
      "text/plain": [
       "Region\n",
       "West         26994318.2\n",
       "Northeast    18632406.7\n",
       "Southeast    16317123.6\n",
       "South        14466318.1\n",
       "Midwest      13580045.9\n",
       "Name: Total Sales, dtype: float64"
      ]
     },
     "execution_count": 90,
     "metadata": {},
     "output_type": "execute_result"
    }
   ],
   "source": [
    "# Total Sales by Region\n",
    "sales_by_region = df.groupby('Region')['Total Sales'].sum().sort_values(ascending=False)\n",
    "print(\"Total Sales by Region:\")\n",
    "sales_by_region"
   ]
  },
  {
   "cell_type": "code",
   "execution_count": 91,
   "id": "58253da2",
   "metadata": {},
   "outputs": [
    {
     "data": {
      "image/png": "[encoded data removed]",
      "text/plain": [
       "<Figure size 1200x500 with 1 Axes>"
      ]
     },
     "metadata": {},
     "output_type": "display_data"
    }
   ],
   "source": [
    "# Horizontal Bar chart: Total Sales by Region\n",
    "plt.figure(figsize=(12, 5))  \n",
    "ax = sales_by_region.plot(kind='barh', color=['#0C0950','#161179','#261FB3','#9EC6F3','#AFDDFF','#C7D9DD'])\n",
    "\n",
    "plt.title('Total Sales by Region')\n",
    "plt.xlabel('Total Sales')\n",
    "\n",
    "# Reverse y-axis so largest value is on top\n",
    "plt.gca().invert_yaxis()\n",
    "\n",
    "# Apply custom formatter for x-axis\n",
    "plt.gca().xaxis.set_major_formatter(FuncFormatter(custom_formatter))\n",
    "\n",
    "# Add value labels inside the bars\n",
    "for index, sales in enumerate(sales_by_region):\n",
    "    ax.text(sales * 0.01, index, f'{sales:,.0f}', va='center', ha='left', fontsize=10, fontweight='bold', color='white')\n",
    "\n",
    "plt.tight_layout()\n",
    "plt.show()\n"
   ]
  },
  {
   "cell_type": "markdown",
   "id": "f2f179be",
   "metadata": {},
   "source": [
    "### Total Sales by Region and Quarter"
   ]
  },
  {
   "cell_type": "markdown",
   "id": "cb050d0b",
   "metadata": {},
   "source": [
    "#### Question 3:\n",
    "**How did the sales performance of different regions compare across the quarters in 2021?**\n",
    "\n",
    "**Answer:**\n",
    "\n",
    "| Quarter | Best Performing Region | Lowest Performing Region |\n",
    "|---------|------------------------|--------------------------|\n",
    "| Q1 2021 | West                   | South                    |\n",
    "| Q2 2021 | West                   | Midwest                  |\n",
    "| Q3 2021 | South                  | Northwest                |\n",
    "| Q4 2021 | Northwest              | Midwest                  |\n",
    "\n",
    "#### Question 4:\n",
    "**How did the overall sales in 2021 compare to 2020?**\n",
    "\n",
    "**Answer:**\n",
    "total sales increased significantly in 2021 compared to 2020.\n",
    "\n"
   ]
  },
  {
   "cell_type": "code",
   "execution_count": 92,
   "id": "5c2a6f3c",
   "metadata": {},
   "outputs": [
    {
     "name": "stdout",
     "output_type": "stream",
     "text": [
      "Total Sales by Region and Year_Quarter:\n"
     ]
    },
    {
     "data": {
      "application/vnd.microsoft.datawrangler.viewer.v0+json": {
       "columns": [
        {
         "name": "index",
         "rawType": "int64",
         "type": "integer"
        },
        {
         "name": "Region",
         "rawType": "object",
         "type": "string"
        },
        {
         "name": "Year_Quarter",
         "rawType": "object",
         "type": "string"
        },
        {
         "name": "Total Sales",
         "rawType": "float64",
         "type": "float"
        }
       ],
       "conversionMethod": "pd.DataFrame",
       "ref": "6297e3e9-38cb-443c-aef2-0b9d45f60aeb",
       "rows": [
        [
         "0",
         "Midwest",
         "2020-Q4",
         "737806.8"
        ],
        [
         "1",
         "Midwest",
         "2021-Q1",
         "3120449.1"
        ],
        [
         "2",
         "Midwest",
         "2021-Q2",
         "2897790.7"
        ],
        [
         "3",
         "Midwest",
         "2021-Q3",
         "3936899.5000000005"
        ],
        [
         "4",
         "Midwest",
         "2021-Q4",
         "2887099.8000000003"
        ],
        [
         "5",
         "Northeast",
         "2020-Q1",
         "2595704.2"
        ],
        [
         "6",
         "Northeast",
         "2020-Q2",
         "1297596.5"
        ],
        [
         "7",
         "Northeast",
         "2020-Q3",
         "181670.2"
        ],
        [
         "8",
         "Northeast",
         "2021-Q1",
         "2287102.4"
        ],
        [
         "9",
         "Northeast",
         "2021-Q2",
         "3073628.8"
        ],
        [
         "10",
         "Northeast",
         "2021-Q3",
         "3633069.3"
        ],
        [
         "11",
         "Northeast",
         "2021-Q4",
         "5563635.3"
        ],
        [
         "12",
         "South",
         "2020-Q3",
         "1901434.3"
        ],
        [
         "13",
         "South",
         "2020-Q4",
         "644253.9"
        ],
        [
         "14",
         "South",
         "2021-Q1",
         "1092235.5"
        ],
        [
         "15",
         "South",
         "2021-Q2",
         "3003794.4"
        ],
        [
         "16",
         "South",
         "2021-Q3",
         "4804799.100000001"
        ],
        [
         "17",
         "South",
         "2021-Q4",
         "3019800.9000000004"
        ],
        [
         "18",
         "Southeast",
         "2020-Q2",
         "925230.6000000001"
        ],
        [
         "19",
         "Southeast",
         "2020-Q3",
         "1739345.8"
        ],
        [
         "20",
         "Southeast",
         "2020-Q4",
         "495509.9000000001"
        ],
        [
         "21",
         "Southeast",
         "2021-Q1",
         "2243198.0"
        ],
        [
         "22",
         "Southeast",
         "2021-Q2",
         "3101118.4"
        ],
        [
         "23",
         "Southeast",
         "2021-Q3",
         "4118874.0000000005"
        ],
        [
         "24",
         "Southeast",
         "2021-Q4",
         "3693846.9000000004"
        ],
        [
         "25",
         "West",
         "2020-Q1",
         "2295526.9"
        ],
        [
         "26",
         "West",
         "2020-Q2",
         "2812656.8000000003"
        ],
        [
         "27",
         "West",
         "2020-Q3",
         "1710392.6000000003"
        ],
        [
         "28",
         "West",
         "2020-Q4",
         "870939.0"
        ],
        [
         "29",
         "West",
         "2021-Q1",
         "5304624.3"
        ],
        [
         "30",
         "West",
         "2021-Q2",
         "5647687.5"
        ],
        [
         "31",
         "West",
         "2021-Q3",
         "4504350.600000001"
        ],
        [
         "32",
         "West",
         "2021-Q4",
         "3848140.5000000005"
        ]
       ],
       "shape": {
        "columns": 3,
        "rows": 33
       }
      },
      "text/html": [
       "<div>\n",
       "<style scoped>\n",
       "    .dataframe tbody tr th:only-of-type {\n",
       "        vertical-align: middle;\n",
       "    }\n",
       "\n",
       "    .dataframe tbody tr th {\n",
       "        vertical-align: top;\n",
       "    }\n",
       "\n",
       "    .dataframe thead th {\n",
       "        text-align: right;\n",
       "    }\n",
       "</style>\n",
       "<table border=\"1\" class=\"dataframe\">\n",
       "  <thead>\n",
       "    <tr style=\"text-align: right;\">\n",
       "      <th></th>\n",
       "      <th>Region</th>\n",
       "      <th>Year_Quarter</th>\n",
       "      <th>Total Sales</th>\n",
       "    </tr>\n",
       "  </thead>\n",
       "  <tbody>\n",
       "    <tr>\n",
       "      <th>0</th>\n",
       "      <td>Midwest</td>\n",
       "      <td>2020-Q4</td>\n",
       "      <td>737806.8</td>\n",
       "    </tr>\n",
       "    <tr>\n",
       "      <th>1</th>\n",
       "      <td>Midwest</td>\n",
       "      <td>2021-Q1</td>\n",
       "      <td>3120449.1</td>\n",
       "    </tr>\n",
       "    <tr>\n",
       "      <th>2</th>\n",
       "      <td>Midwest</td>\n",
       "      <td>2021-Q2</td>\n",
       "      <td>2897790.7</td>\n",
       "    </tr>\n",
       "    <tr>\n",
       "      <th>3</th>\n",
       "      <td>Midwest</td>\n",
       "      <td>2021-Q3</td>\n",
       "      <td>3936899.5</td>\n",
       "    </tr>\n",
       "    <tr>\n",
       "      <th>4</th>\n",
       "      <td>Midwest</td>\n",
       "      <td>2021-Q4</td>\n",
       "      <td>2887099.8</td>\n",
       "    </tr>\n",
       "    <tr>\n",
       "      <th>5</th>\n",
       "      <td>Northeast</td>\n",
       "      <td>2020-Q1</td>\n",
       "      <td>2595704.2</td>\n",
       "    </tr>\n",
       "    <tr>\n",
       "      <th>6</th>\n",
       "      <td>Northeast</td>\n",
       "      <td>2020-Q2</td>\n",
       "      <td>1297596.5</td>\n",
       "    </tr>\n",
       "    <tr>\n",
       "      <th>7</th>\n",
       "      <td>Northeast</td>\n",
       "      <td>2020-Q3</td>\n",
       "      <td>181670.2</td>\n",
       "    </tr>\n",
       "    <tr>\n",
       "      <th>8</th>\n",
       "      <td>Northeast</td>\n",
       "      <td>2021-Q1</td>\n",
       "      <td>2287102.4</td>\n",
       "    </tr>\n",
       "    <tr>\n",
       "      <th>9</th>\n",
       "      <td>Northeast</td>\n",
       "      <td>2021-Q2</td>\n",
       "      <td>3073628.8</td>\n",
       "    </tr>\n",
       "    <tr>\n",
       "      <th>10</th>\n",
       "      <td>Northeast</td>\n",
       "      <td>2021-Q3</td>\n",
       "      <td>3633069.3</td>\n",
       "    </tr>\n",
       "    <tr>\n",
       "      <th>11</th>\n",
       "      <td>Northeast</td>\n",
       "      <td>2021-Q4</td>\n",
       "      <td>5563635.3</td>\n",
       "    </tr>\n",
       "    <tr>\n",
       "      <th>12</th>\n",
       "      <td>South</td>\n",
       "      <td>2020-Q3</td>\n",
       "      <td>1901434.3</td>\n",
       "    </tr>\n",
       "    <tr>\n",
       "      <th>13</th>\n",
       "      <td>South</td>\n",
       "      <td>2020-Q4</td>\n",
       "      <td>644253.9</td>\n",
       "    </tr>\n",
       "    <tr>\n",
       "      <th>14</th>\n",
       "      <td>South</td>\n",
       "      <td>2021-Q1</td>\n",
       "      <td>1092235.5</td>\n",
       "    </tr>\n",
       "    <tr>\n",
       "      <th>15</th>\n",
       "      <td>South</td>\n",
       "      <td>2021-Q2</td>\n",
       "      <td>3003794.4</td>\n",
       "    </tr>\n",
       "    <tr>\n",
       "      <th>16</th>\n",
       "      <td>South</td>\n",
       "      <td>2021-Q3</td>\n",
       "      <td>4804799.1</td>\n",
       "    </tr>\n",
       "    <tr>\n",
       "      <th>17</th>\n",
       "      <td>South</td>\n",
       "      <td>2021-Q4</td>\n",
       "      <td>3019800.9</td>\n",
       "    </tr>\n",
       "    <tr>\n",
       "      <th>18</th>\n",
       "      <td>Southeast</td>\n",
       "      <td>2020-Q2</td>\n",
       "      <td>925230.6</td>\n",
       "    </tr>\n",
       "    <tr>\n",
       "      <th>19</th>\n",
       "      <td>Southeast</td>\n",
       "      <td>2020-Q3</td>\n",
       "      <td>1739345.8</td>\n",
       "    </tr>\n",
       "    <tr>\n",
       "      <th>20</th>\n",
       "      <td>Southeast</td>\n",
       "      <td>2020-Q4</td>\n",
       "      <td>495509.9</td>\n",
       "    </tr>\n",
       "    <tr>\n",
       "      <th>21</th>\n",
       "      <td>Southeast</td>\n",
       "      <td>2021-Q1</td>\n",
       "      <td>2243198.0</td>\n",
       "    </tr>\n",
       "    <tr>\n",
       "      <th>22</th>\n",
       "      <td>Southeast</td>\n",
       "      <td>2021-Q2</td>\n",
       "      <td>3101118.4</td>\n",
       "    </tr>\n",
       "    <tr>\n",
       "      <th>23</th>\n",
       "      <td>Southeast</td>\n",
       "      <td>2021-Q3</td>\n",
       "      <td>4118874.0</td>\n",
       "    </tr>\n",
       "    <tr>\n",
       "      <th>24</th>\n",
       "      <td>Southeast</td>\n",
       "      <td>2021-Q4</td>\n",
       "      <td>3693846.9</td>\n",
       "    </tr>\n",
       "    <tr>\n",
       "      <th>25</th>\n",
       "      <td>West</td>\n",
       "      <td>2020-Q1</td>\n",
       "      <td>2295526.9</td>\n",
       "    </tr>\n",
       "    <tr>\n",
       "      <th>26</th>\n",
       "      <td>West</td>\n",
       "      <td>2020-Q2</td>\n",
       "      <td>2812656.8</td>\n",
       "    </tr>\n",
       "    <tr>\n",
       "      <th>27</th>\n",
       "      <td>West</td>\n",
       "      <td>2020-Q3</td>\n",
       "      <td>1710392.6</td>\n",
       "    </tr>\n",
       "    <tr>\n",
       "      <th>28</th>\n",
       "      <td>West</td>\n",
       "      <td>2020-Q4</td>\n",
       "      <td>870939.0</td>\n",
       "    </tr>\n",
       "    <tr>\n",
       "      <th>29</th>\n",
       "      <td>West</td>\n",
       "      <td>2021-Q1</td>\n",
       "      <td>5304624.3</td>\n",
       "    </tr>\n",
       "    <tr>\n",
       "      <th>30</th>\n",
       "      <td>West</td>\n",
       "      <td>2021-Q2</td>\n",
       "      <td>5647687.5</td>\n",
       "    </tr>\n",
       "    <tr>\n",
       "      <th>31</th>\n",
       "      <td>West</td>\n",
       "      <td>2021-Q3</td>\n",
       "      <td>4504350.6</td>\n",
       "    </tr>\n",
       "    <tr>\n",
       "      <th>32</th>\n",
       "      <td>West</td>\n",
       "      <td>2021-Q4</td>\n",
       "      <td>3848140.5</td>\n",
       "    </tr>\n",
       "  </tbody>\n",
       "</table>\n",
       "</div>"
      ],
      "text/plain": [
       "       Region Year_Quarter  Total Sales\n",
       "0     Midwest      2020-Q4     737806.8\n",
       "1     Midwest      2021-Q1    3120449.1\n",
       "2     Midwest      2021-Q2    2897790.7\n",
       "3     Midwest      2021-Q3    3936899.5\n",
       "4     Midwest      2021-Q4    2887099.8\n",
       "5   Northeast      2020-Q1    2595704.2\n",
       "6   Northeast      2020-Q2    1297596.5\n",
       "7   Northeast      2020-Q3     181670.2\n",
       "8   Northeast      2021-Q1    2287102.4\n",
       "9   Northeast      2021-Q2    3073628.8\n",
       "10  Northeast      2021-Q3    3633069.3\n",
       "11  Northeast      2021-Q4    5563635.3\n",
       "12      South      2020-Q3    1901434.3\n",
       "13      South      2020-Q4     644253.9\n",
       "14      South      2021-Q1    1092235.5\n",
       "15      South      2021-Q2    3003794.4\n",
       "16      South      2021-Q3    4804799.1\n",
       "17      South      2021-Q4    3019800.9\n",
       "18  Southeast      2020-Q2     925230.6\n",
       "19  Southeast      2020-Q3    1739345.8\n",
       "20  Southeast      2020-Q4     495509.9\n",
       "21  Southeast      2021-Q1    2243198.0\n",
       "22  Southeast      2021-Q2    3101118.4\n",
       "23  Southeast      2021-Q3    4118874.0\n",
       "24  Southeast      2021-Q4    3693846.9\n",
       "25       West      2020-Q1    2295526.9\n",
       "26       West      2020-Q2    2812656.8\n",
       "27       West      2020-Q3    1710392.6\n",
       "28       West      2020-Q4     870939.0\n",
       "29       West      2021-Q1    5304624.3\n",
       "30       West      2021-Q2    5647687.5\n",
       "31       West      2021-Q3    4504350.6\n",
       "32       West      2021-Q4    3848140.5"
      ]
     },
     "execution_count": 92,
     "metadata": {},
     "output_type": "execute_result"
    }
   ],
   "source": [
    "# --- Grouping data by region and year/quarter, and summing total sales --- \n",
    "sales_by_quarter = df.groupby(['Region', 'Year_Quarter'])['Total Sales'].sum().reset_index()\n",
    "print(\"Total Sales by Region and Year_Quarter:\")\n",
    "sales_by_quarter"
   ]
  },
  {
   "cell_type": "code",
   "execution_count": 93,
   "id": "14b7016c",
   "metadata": {},
   "outputs": [
    {
     "data": {
      "image/png": "[encoded data removed]",
      "text/plain": [
       "<Figure size 1800x600 with 1 Axes>"
      ]
     },
     "metadata": {},
     "output_type": "display_data"
    }
   ],
   "source": [
    "# : Total Sales by Region and Quarter\n",
    "plt.figure(figsize=(18, 6))\n",
    "sns.barplot(\n",
    "    data=sales_by_quarter,\n",
    "    x='Year_Quarter',\n",
    "    y='Total Sales',\n",
    "    hue='Region',\n",
    "    palette='Blues'\n",
    "    #palette=['#0C0950','#161179','#261FB3','#9EC6F3','#AFDDFF','#C7D9DD']\n",
    "    \n",
    ")\n",
    "\n",
    "# Apply custom y-axis formatter to show values in millions, thousands ..\n",
    "plt.gca().yaxis.set_major_formatter(FuncFormatter(custom_formatter))\n",
    "\n",
    "# --- Adding final details like title and axis labels --- \n",
    "plt.title('Total Sales by Region and Quarter', fontsize=14)\n",
    "plt.xlabel('Quarter')\n",
    "plt.ylabel('Total Sales')\n",
    "plt.legend(title='Region')\n",
    "plt.tight_layout()\n",
    "plt.show()"
   ]
  },
  {
   "cell_type": "markdown",
   "id": "30973f18",
   "metadata": {},
   "source": [
    "### Total Sales by Region"
   ]
  },
  {
   "cell_type": "markdown",
   "id": "d3f51f7a",
   "metadata": {},
   "source": [
    "#### Question 5:\n",
    "**Which region had the highest share of total sales, and how did the other regions compare?**\n",
    "\n",
    "**Answer:**\n",
    "- The region with the highest share of total sales was **West**, accounting for **30.0%** of total sales.\n",
    "- It was followed by:\n",
    "  - **Northeast**: **20.7%**\n",
    "  - **Southeast**: **18.1%**\n",
    "  - **South**: **16.1%**\n",
    "  - **Midwest**: **15.1%**\n"
   ]
  },
  {
   "cell_type": "code",
   "execution_count": 94,
   "id": "e81d8cdf",
   "metadata": {},
   "outputs": [
    {
     "name": "stdout",
     "output_type": "stream",
     "text": [
      "Total Sales by Region percentage:\n",
      "\n",
      "West: 30.0%\n",
      "Northeast: 20.7%\n",
      "Southeast: 18.13%\n",
      "South: 16.08%\n",
      "Midwest: 15.09%\n"
     ]
    }
   ],
   "source": [
    "sales_percentage_by_region = (sales_by_region / sales_by_region.sum()) * 100\n",
    "sales_percentage_by_region = sales_percentage_by_region.round(2)  # Round to 1 decimal place\n",
    "\n",
    "print(\"Total Sales by Region percentage:\\n\")\n",
    "# Display results as text\n",
    "for region, percentage in sales_percentage_by_region.items():\n",
    "    print(f\"{region}: {percentage}%\")\n"
   ]
  },
  {
   "cell_type": "code",
   "execution_count": 95,
   "id": "f20d6120",
   "metadata": {},
   "outputs": [
    {
     "data": {
      "image/png": "[encoded data removed]",
      "text/plain": [
       "<Figure size 800x600 with 1 Axes>"
      ]
     },
     "metadata": {},
     "output_type": "display_data"
    }
   ],
   "source": [
    "# Donut Chart: Total Sales by Region\n",
    "fig, ax = plt.subplots(figsize=(8, 6))\n",
    "\n",
    "# Custom blue color palette with more distinct shades\n",
    "blue_palette = ['#B3DDF2', '#6BAED6', '#1F78B4', '#2171B5', '#084594', '#08306B']\n",
    "\n",
    "# --- Plotting the pie chart as a donut with percentage labels ---\n",
    "wedges, texts, autotexts = ax.pie(\n",
    "    sales_by_region,\n",
    "    colors=blue_palette[:len(sales_by_region)],\n",
    "    autopct='%1.2f%%',\n",
    "    startangle=140,\n",
    "    wedgeprops=dict(width=0.4, edgecolor='w', linewidth=1),\n",
    "    textprops={'fontsize': 12, 'color': 'white', 'fontweight': 'bold'}\n",
    ")\n",
    "\n",
    "# --- Styling the percentage labels inside the chart ---\n",
    "for autotext in autotexts:\n",
    "    autotext.set_fontsize(12)\n",
    "    autotext.set_color('#000000')       \n",
    "    autotext.set_fontweight('bold')      \n",
    "    autotext.set_fontname('Arial')       \n",
    "\n",
    "# --- Adding title and legend ---\n",
    "ax.legend(\n",
    "    labels=sales_by_region.index,\n",
    "    title='Region',\n",
    "    loc='center left',\n",
    "    bbox_to_anchor=(1, 0.5),\n",
    "    fontsize=11,\n",
    "    title_fontsize=13\n",
    ")\n",
    "\n",
    "plt.title('Total Sales by Region', fontsize=18, fontweight='bold', fontname='Arial')\n",
    "plt.axis('equal')        # Ensures the pie is a perfect circle\n",
    "plt.tight_layout()       \n",
    "plt.show()\n"
   ]
  },
  {
   "cell_type": "markdown",
   "id": "ea551503",
   "metadata": {},
   "source": [
    "### Visualizing Sales Method Distribution with a Donut Chart"
   ]
  },
  {
   "cell_type": "code",
   "execution_count": 96,
   "id": "c3bc55af",
   "metadata": {},
   "outputs": [],
   "source": [
    "def plot_sales_method_distribution(data):\n",
    "    # Color palette with shades of blue\n",
    "    blue_palette = ['#A6CEE3', '#1F78B4', '#6BAED6', '#2171B5', '#08306B']\n",
    "    # Plotting Total Sales by Sales Method\n",
    "    fig, ax = plt.subplots(figsize=(8, 6))\n",
    "\n",
    "    wedges, texts, autotexts = ax.pie(\n",
    "        data,  # No need to access 'Total Sales' again\n",
    "        colors=blue_palette[:len(data)],\n",
    "        autopct='%1.2f%%',\n",
    "        startangle=140,\n",
    "        wedgeprops=dict(width=0.4, edgecolor='w', linewidth=1),  # Adding border to wedges for clarity\n",
    "        textprops={'fontsize': 10, 'color': 'white'}  # Text properties\n",
    "    )\n",
    "\n",
    "    # --- Styling the percentage labels inside the chart ---\n",
    "    for autotext in autotexts:\n",
    "        autotext.set_fontsize(12)\n",
    "        autotext.set_color('#000000')       \n",
    "        autotext.set_fontweight('bold')      \n",
    "        autotext.set_fontname('Arial')       \n",
    "\n",
    "    # Add title and legend\n",
    "    ax.legend(\n",
    "        labels=data.index,\n",
    "        title='Sales Method',\n",
    "        loc='center left',\n",
    "        bbox_to_anchor=(1, 0.5),\n",
    "        fontsize=10,\n",
    "        title_fontsize=12\n",
    "    )"
   ]
  },
  {
   "cell_type": "code",
   "execution_count": 97,
   "id": "ce2ec9b8",
   "metadata": {},
   "outputs": [],
   "source": [
    "def finalize_and_show_plot():\n",
    "    plt.axis('equal') \n",
    "    plt.tight_layout()  \n",
    "    plt.show()"
   ]
  },
  {
   "cell_type": "markdown",
   "id": "0a1c2e02",
   "metadata": {},
   "source": [
    "### Total Sales by Sales Method"
   ]
  },
  {
   "cell_type": "markdown",
   "id": "6f3c7d8c",
   "metadata": {},
   "source": [
    "#### Question 6:\n",
    "**How were total sales distributed across different sales methods?**\n",
    "\n",
    "**Answer:**\n",
    "- **In-Store** sales accounted for the largest share at **39.6%**.\n",
    "- **Outlet** sales followed with **32.8%**.\n",
    "- **Online** sales made up **27.5%** of total sales."
   ]
  },
  {
   "cell_type": "code",
   "execution_count": 98,
   "id": "23fc6cfe",
   "metadata": {},
   "outputs": [
    {
     "name": "stdout",
     "output_type": "stream",
     "text": [
      "Total Sales by Sales Method:\n",
      "\n"
     ]
    },
    {
     "data": {
      "text/plain": [
       "Sales Method\n",
       "In-store    35664375.0\n",
       "Online      24767288.2\n",
       "Outlet      29558549.3\n",
       "Name: Total Sales, dtype: float64"
      ]
     },
     "execution_count": 98,
     "metadata": {},
     "output_type": "execute_result"
    }
   ],
   "source": [
    "# Grouping by 'Sales Method' and summing 'Total Sales'\n",
    "sales_method_by_total_sales = df.groupby('Sales Method')['Total Sales'].sum()\n",
    "print(\"Total Sales by Sales Method:\\n\")\n",
    "sales_method_by_total_sales"
   ]
  },
  {
   "cell_type": "code",
   "execution_count": 99,
   "id": "2dabf6bd",
   "metadata": {},
   "outputs": [
    {
     "name": "stdout",
     "output_type": "stream",
     "text": [
      "Total Sales by Sales Method percentage:\n",
      "\n",
      "In-store: 39.63%\n",
      "Online: 27.52%\n",
      "Outlet: 32.85%\n"
     ]
    }
   ],
   "source": [
    "# Calculate the percentage of Total Sales for each Sales Method\n",
    "method_sales_percentage = (sales_method_by_total_sales / sales_method_by_total_sales.sum()) * 100\n",
    "method_sales_percentage = method_sales_percentage.round(2)  # Round to 1 decimal place\n",
    "\n",
    "print(\"Total Sales by Sales Method percentage:\\n\")\n",
    "# Display the results as text\n",
    "for method, percentage in method_sales_percentage.items():\n",
    "    print(f\"{method}: {percentage}%\")\n"
   ]
  },
  {
   "cell_type": "code",
   "execution_count": 100,
   "id": "2d84b94a",
   "metadata": {},
   "outputs": [
    {
     "data": {
      "image/png": "[encoded data removed]",
      "text/plain": [
       "<Figure size 800x600 with 1 Axes>"
      ]
     },
     "metadata": {},
     "output_type": "display_data"
    }
   ],
   "source": [
    "plot_sales_method_distribution(sales_method_by_total_sales)\n",
    "plt.title('Total Sales by Sales Method', fontsize=16, fontweight='bold')\n",
    "finalize_and_show_plot()"
   ]
  },
  {
   "cell_type": "markdown",
   "id": "6ec2b95d",
   "metadata": {},
   "source": [
    "### Units Sold by Sales Method"
   ]
  },
  {
   "cell_type": "markdown",
   "id": "8c0f4318",
   "metadata": {},
   "source": [
    "#### Question 7:\n",
    "**How were units sold distributed across different sales methods?**\n",
    "\n",
    "**Answer:**\n",
    "- **Online** sales accounted for **37.9%** of total units sold.\n",
    "- **Outlet** sales represented **34.3%**.\n",
    "- **In-Store** sales made up **27.8%**."
   ]
  },
  {
   "cell_type": "code",
   "execution_count": 101,
   "id": "51b14aa2",
   "metadata": {},
   "outputs": [
    {
     "name": "stdout",
     "output_type": "stream",
     "text": [
      "Units Sold by Sales Method:\n",
      "\n"
     ]
    },
    {
     "data": {
      "text/plain": [
       "Sales Method\n",
       "In-store    689990\n",
       "Online      939093\n",
       "Outlet      849778\n",
       "Name: Units Sold, dtype: int64"
      ]
     },
     "execution_count": 101,
     "metadata": {},
     "output_type": "execute_result"
    }
   ],
   "source": [
    "# Group by Sales Method and sum Units Sold\n",
    "units_sold_by_method = df.groupby('Sales Method')['Units Sold'].sum()\n",
    "print(\"Units Sold by Sales Method:\\n\")\n",
    "units_sold_by_method"
   ]
  },
  {
   "cell_type": "code",
   "execution_count": 102,
   "id": "14bb9cf6",
   "metadata": {},
   "outputs": [
    {
     "name": "stdout",
     "output_type": "stream",
     "text": [
      "Units Sold by Sales Method percentage:\n",
      "\n",
      "In-store: 27.8%\n",
      "Online: 37.9%\n",
      "Outlet: 34.3%\n"
     ]
    }
   ],
   "source": [
    "# Calculate percentage\n",
    "units_sold_percentages = (units_sold_by_method / units_sold_by_method.sum()) * 100\n",
    "units_sold_percentages = units_sold_percentages.round(1)\n",
    "\n",
    "print(\"Units Sold by Sales Method percentage:\\n\")\n",
    "# Display the results\n",
    "for method, percentage in units_sold_percentages.items():\n",
    "    print(f\"{method}: {percentage}%\")"
   ]
  },
  {
   "cell_type": "code",
   "execution_count": 103,
   "id": "474b3a65",
   "metadata": {},
   "outputs": [
    {
     "data": {
      "image/png": "[encoded data removed]",
      "text/plain": [
       "<Figure size 800x600 with 1 Axes>"
      ]
     },
     "metadata": {},
     "output_type": "display_data"
    }
   ],
   "source": [
    "plot_sales_method_distribution(units_sold_by_method)\n",
    "plt.title('Units Sold by Sales Method', fontsize=16, fontweight='bold')\n",
    "finalize_and_show_plot()"
   ]
  },
  {
   "cell_type": "markdown",
   "id": "2b3a3bd5",
   "metadata": {},
   "source": [
    "### Profit by Sales Method"
   ]
  },
  {
   "cell_type": "markdown",
   "id": "9d43910e",
   "metadata": {},
   "source": [
    "#### Question 8:\n",
    "**How was operating profit distributed across different sales methods?**\n",
    "\n",
    "**Answer:**\n",
    "- **In-Store** generated the highest share of operating profit at **38.4%**.\n",
    "- **Outlet** followed with **32.5%**.\n",
    "- **Online** accounted for **29.1%** of the total operating profit.\n",
    "\n",
    "This indicates that the **Outlet** method was the most profitable overall, despite **Online** having the highest share in units sold.\n"
   ]
  },
  {
   "cell_type": "code",
   "execution_count": 104,
   "id": "95b484b2",
   "metadata": {},
   "outputs": [
    {
     "name": "stdout",
     "output_type": "stream",
     "text": [
      "Total Profit by Sales Method:\n",
      "\n",
      "In-store: 12.76M\n",
      "Online: 9.66M\n",
      "Outlet: 10.80M\n"
     ]
    }
   ],
   "source": [
    "# Group by Sales Method and sum Operating Profit\n",
    "operating_profit_by_method = df.groupby('Sales Method')['Operating Profit'].sum()\n",
    "operating_profit_by_method\n",
    "\n",
    "\n",
    "# Multiply the numbers by 1 million to convert to millions\n",
    "operating_profit_by_method_millions = operating_profit_by_method / 1_000_000\n",
    "\n",
    "print(\"Total Profit by Sales Method:\\n\")\n",
    "# Display the results with formatting\n",
    "for method, profit in operating_profit_by_method_millions.items():\n",
    "    print(f\"{method}: {profit:.2f}M\")\n"
   ]
  },
  {
   "cell_type": "code",
   "execution_count": 105,
   "id": "a729ceee",
   "metadata": {},
   "outputs": [
    {
     "name": "stdout",
     "output_type": "stream",
     "text": [
      "Total Profit by Sales Method percentage:\n",
      "\n",
      "In-store: 38.4%\n",
      "Online: 29.1%\n",
      "Outlet: 32.5%\n"
     ]
    }
   ],
   "source": [
    "# Calculate percentage\n",
    "operating_profit_percentages = (operating_profit_by_method / operating_profit_by_method.sum()) * 100\n",
    "operating_profit_percentages = operating_profit_percentages.round(1)  # Round to 1 decimal place\n",
    "\n",
    "print(\"Total Profit by Sales Method percentage:\\n\")\n",
    "# Display the results\n",
    "for method, percentage in operating_profit_percentages.items():\n",
    "    print(f\"{method}: {percentage}%\")\n"
   ]
  },
  {
   "cell_type": "code",
   "execution_count": 106,
   "id": "96a8ae8b",
   "metadata": {},
   "outputs": [
    {
     "data": {
      "image/png": "[encoded data removed]",
      "text/plain": [
       "<Figure size 800x600 with 1 Axes>"
      ]
     },
     "metadata": {},
     "output_type": "display_data"
    }
   ],
   "source": [
    "plot_sales_method_distribution(operating_profit_by_method)\n",
    "plt.title('Operating Profit by Sales Method', fontsize=16, fontweight='bold')\n",
    "finalize_and_show_plot()"
   ]
  }
 ],
 "metadata": {
  "kernelspec": {
   "display_name": "Python 3",
   "language": "python",
   "name": "python3"
  },
  "language_info": {
   "codemirror_mode": {
    "name": "ipython",
    "version": 3
   },
   "file_extension": ".py",
   "mimetype": "text/x-python",
   "name": "python",
   "nbconvert_exporter": "python",
   "pygments_lexer": "ipython3",
   "version": "3.11.9"
  }
 },
 "nbformat": 4,
 "nbformat_minor": 5
}
